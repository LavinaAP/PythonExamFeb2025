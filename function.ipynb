{
 "cells": [
  {
   "cell_type": "code",
   "execution_count": 1,
   "id": "0c11ff6d-6202-4a3a-89d5-1d237c2c7cfa",
   "metadata": {},
   "outputs": [
    {
     "name": "stdin",
     "output_type": "stream",
     "text": [
      "Enter the string: lavina\n"
     ]
    },
    {
     "name": "stdout",
     "output_type": "stream",
     "text": [
      "anival\n"
     ]
    }
   ],
   "source": [
    "#Write a function reverse_string(s) that takes a string and returns its reverse.print(reverse_string(\"hello\")) # Output: \"olleh\" \n",
    "\n",
    "def reverser(data):\n",
    "    data1 = data[::-1]\n",
    "    print(data1)\n",
    "\n",
    "data = input(\"Enter the string:\")\n",
    "\n",
    "reverser(data)   "
   ]
  },
  {
   "cell_type": "code",
   "execution_count": 5,
   "id": "5e6c6803-ec8a-4124-aeb1-2198c31b28a6",
   "metadata": {},
   "outputs": [
    {
     "name": "stdin",
     "output_type": "stream",
     "text": [
      "Enter the string: lavina\n"
     ]
    },
    {
     "name": "stdout",
     "output_type": "stream",
     "text": [
      "['l', 'a', 'v', 'i', 'n', 'a']\n",
      "string is not palindrom\n"
     ]
    }
   ],
   "source": [
    "#Write a function is_palindrome(s) that returns True if the string is a palindrome, else False.\n",
    "#print(is_palindrome(\"madam\")) # Output: True\n",
    "#print(is_palindrome(\"hello\")) # Output: False \n",
    "\n",
    "def palindrom(str):\n",
    "   l = list(str)\n",
    "   print(l)\n",
    "   if l == l[::-1]:\n",
    "    print(\"string is palindrom\")\n",
    "   else:\n",
    "    print(\"string is not palindrom\")\n",
    "\n",
    "palindrom(input(\"Enter the string:\"))"
   ]
  },
  {
   "cell_type": "code",
   "execution_count": 17,
   "id": "f5ed3cf8-5de2-419c-9557-6432913bd032",
   "metadata": {},
   "outputs": [
    {
     "name": "stdout",
     "output_type": "stream",
     "text": [
      "( 2 , 3 )\n"
     ]
    }
   ],
   "source": [
    "#Write a function count_vowels_consonants(s) that returns the count of vowels and consonants in a string.print(count_vowels_consonants(\"apple\")) # Output: (2, 3) \n",
    "def vowels(str):\n",
    "    count = 0\n",
    "    list = [\"a\",\"e\",\"i\",\"o\",\"u\"]\n",
    "    count_consonant = 0\n",
    "    for i in str:\n",
    "       if i in list:\n",
    "         count+=1\n",
    "       else:\n",
    "         count_consonant+=1 \n",
    "    print(\"(\",count,\",\",count_consonant,\")\")\n",
    "vowels(\"apple\") "
   ]
  },
  {
   "cell_type": "code",
   "execution_count": 51,
   "id": "694f79e3-ded0-4d72-a088-c67fc509985b",
   "metadata": {},
   "outputs": [],
   "source": [
    "#Write a function remove_duplicates(s) that removes duplicate characters while maintaining the order.print(remove_duplicates(\"programming\")) # Output: \"progamin\" \n",
    "#def str(data):\n",
    "    \n",
    "\n"
   ]
  },
  {
   "cell_type": "code",
   "execution_count": null,
   "id": "d07e609e-0091-4a4b-a317-7f97f53441af",
   "metadata": {},
   "outputs": [],
   "source": []
  },
  {
   "cell_type": "code",
   "execution_count": null,
   "id": "a6a8ba5e-b464-48ab-8646-f0e09aec4d63",
   "metadata": {},
   "outputs": [],
   "source": []
  }
 ],
 "metadata": {
  "kernelspec": {
   "display_name": "Python [conda env:base] *",
   "language": "python",
   "name": "conda-base-py"
  },
  "language_info": {
   "codemirror_mode": {
    "name": "ipython",
    "version": 3
   },
   "file_extension": ".py",
   "mimetype": "text/x-python",
   "name": "python",
   "nbconvert_exporter": "python",
   "pygments_lexer": "ipython3",
   "version": "3.12.7"
  }
 },
 "nbformat": 4,
 "nbformat_minor": 5
}
