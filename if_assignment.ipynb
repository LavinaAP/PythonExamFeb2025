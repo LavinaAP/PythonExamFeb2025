{
 "cells": [
  {
   "cell_type": "code",
   "execution_count": 3,
   "id": "2b24baa3-03fe-40d9-86b3-ad2fa8a7a90c",
   "metadata": {},
   "outputs": [
    {
     "name": "stdin",
     "output_type": "stream",
     "text": [
      "Enter the number 9\n"
     ]
    },
    {
     "name": "stdout",
     "output_type": "stream",
     "text": [
      "odd\n"
     ]
    }
   ],
   "source": [
    "#1)Write a program that takes a number as input and prints out whether it is an even or odd number.\n",
    "def odd_even(number):\n",
    "    if number%2==0:\n",
    "        print(\"even\")\n",
    "    else:\n",
    "        print(\"odd\")\n",
    "        \n",
    "odd_even(int(input(\"Enter the number\")))        \n",
    "        "
   ]
  },
  {
   "cell_type": "code",
   "execution_count": null,
   "id": "5db78304-bde4-496a-b78d-b7a744470633",
   "metadata": {},
   "outputs": [],
   "source": [
    "#2)Write a program that takes a year as input and prints out whether it is a leap year or not\n",
    "def year(data):\n",
    "    if data % 4 == 0:\n",
    "        print(\"yes\")\n",
    "    else:\n",
    "        print(\"no\")\n",
    "        return\n",
    "year(2019)  "
   ]
  },
  {
   "cell_type": "code",
   "execution_count": null,
   "id": "0e6d3739-db85-41ec-ae2d-b46a518e113d",
   "metadata": {},
   "outputs": [],
   "source": [
    "#3)Write a program that takes a string as input and checks whether it is a palindrome or not.\n",
    "def palindrom(str):\n",
    "   l = list(str)\n",
    "   print(l)\n",
    "   if l == l[::-1]:\n",
    "    print(\"string is palindrom\")\n",
    "   else:\n",
    "    print(\"string is not palindrom\")\n",
    "\n",
    "palindrom(input(\"Enter the string:\"))"
   ]
  },
  {
   "cell_type": "code",
   "execution_count": 9,
   "id": "dca280a7-84e1-423b-9e74-0587cc2d6807",
   "metadata": {},
   "outputs": [
    {
     "data": {
      "text/plain": [
       "23"
      ]
     },
     "execution_count": 9,
     "metadata": {},
     "output_type": "execute_result"
    }
   ],
   "source": [
    "#4)Write a program that takes three numbers as input and prints out the largest one\n",
    "def three_largest(n1,n2,n3):\n",
    "    return print(max(n1,n2,n3))\n",
    "max(10,23,5)    "
   ]
  },
  {
   "cell_type": "code",
   "execution_count": 81,
   "id": "723652f3-b53b-439a-95be-5d8fba2a3089",
   "metadata": {},
   "outputs": [
    {
     "name": "stdin",
     "output_type": "stream",
     "text": [
      "Enter your sentence: lavin parulekar\n"
     ]
    },
    {
     "name": "stdout",
     "output_type": "stream",
     "text": [
      "2\n"
     ]
    }
   ],
   "source": [
    "#5)Write a program that takes a sentence as input and counts the number of words in it.\n",
    "def count_string(sentence):\n",
    "    s1 = len((sentence).split())\n",
    "    \n",
    "    return print(s1)\n",
    "    \n",
    "count_string(input(\"Enter your sentence:\"))    \n"
   ]
  },
  {
   "cell_type": "code",
   "execution_count": 85,
   "id": "9e3818f7-6be1-42b0-9199-696427ad6c99",
   "metadata": {},
   "outputs": [
    {
     "name": "stdin",
     "output_type": "stream",
     "text": [
      "Enter the number: 45,45\n"
     ]
    },
    {
     "name": "stdout",
     "output_type": "stream",
     "text": [
      "<class 'map'>\n",
      "array is: <map object at 0x0000017D3FC201F0>\n",
      "sum 90\n"
     ]
    }
   ],
   "source": [
    "#6)Write a program that takes a list of numbers as input and prints out the sum of all the numbers.\n",
    "def arr(data):\n",
    "    print(\"sum\",sum(data))\n",
    "    return\n",
    "\n",
    "data = map(int,input(\"Enter the number:\").split(\",\"))\n",
    "print(type(data))\n",
    "print(\"array is:\",data)\n",
    "arr(data)"
   ]
  },
  {
   "cell_type": "code",
   "execution_count": 13,
   "id": "84f98221-98b9-48a8-87ae-5284df61f770",
   "metadata": {},
   "outputs": [
    {
     "data": {
      "text/plain": [
       "'parulekar'"
      ]
     },
     "execution_count": 13,
     "metadata": {},
     "output_type": "execute_result"
    }
   ],
   "source": [
    "#7)Write a program that takes a list of strings as input and prints out the longest string.\n",
    "def longest_str(data):\n",
    "        str1 = data.split()\n",
    "        return max(str1,key=len) \n",
    "\n",
    "longest_str(\"lavina anand parulekar\")\n",
    "        "
   ]
  },
  {
   "cell_type": "code",
   "execution_count": 29,
   "id": "42680ae8-cb63-4459-a6dd-d557ef0409ce",
   "metadata": {},
   "outputs": [
    {
     "name": "stdout",
     "output_type": "stream",
     "text": [
      "Common elements: [4, 5]\n"
     ]
    }
   ],
   "source": [
    "#8)Write a program that takes two lists of numbers as input and prints out the common elements between the two lists.\n",
    "def common_list(l1, l2):\n",
    "    common = list(set(l1) & set(l2))  # Convert lists to sets and find intersection\n",
    "    print(\"Common elements:\", common)\n",
    "    \n",
    "list1 = [1, 2, 3, 4, 5]\n",
    "list2 = [4, 5, 6, 7, 8]\n",
    "common_list(list1, list2)\n"
   ]
  },
  {
   "cell_type": "code",
   "execution_count": 31,
   "id": "9ded65ab-bc3a-461f-bc51-c171d21ae818",
   "metadata": {},
   "outputs": [
    {
     "data": {
      "text/plain": [
       "[1, 2, 3, 4, 9]"
      ]
     },
     "execution_count": 31,
     "metadata": {},
     "output_type": "execute_result"
    }
   ],
   "source": [
    "#9)Write a program that takes a list of numbers as input and prints out the numbers in ascending order.\n",
    "def asc(data):\n",
    "    return sorted(data)\n",
    "\n",
    "asc([1,4,9,3,2])"
   ]
  },
  {
   "cell_type": "code",
   "execution_count": 37,
   "id": "9512185b-19da-4bdb-8074-4dfdf8a00084",
   "metadata": {},
   "outputs": [
    {
     "data": {
      "text/plain": [
       "['ab', 'a', 'abs', 'aa']"
      ]
     },
     "execution_count": 37,
     "metadata": {},
     "output_type": "execute_result"
    }
   ],
   "source": [
    "#10)Write a program that takes a list of strings as input and removes all duplicates from the list\n",
    "def dupli_remove(data):\n",
    "    return list(set(data))\n",
    "dupli_remove([\"aa\",\"a\",\"abs\",\"ab\",\"aa\"])    "
   ]
  },
  {
   "cell_type": "code",
   "execution_count": 1,
   "id": "8750eb61-4b3f-4622-b7f4-c1cfe0f8c0f3",
   "metadata": {},
   "outputs": [
    {
     "name": "stdin",
     "output_type": "stream",
     "text": [
      "Enter a string:  lavina 1\n"
     ]
    },
    {
     "name": "stdout",
     "output_type": "stream",
     "text": [
      "Character 'l' appears 1 times.\n",
      "Character 'a' appears 2 times.\n",
      "Character 'v' appears 1 times.\n",
      "Character 'i' appears 1 times.\n",
      "Character 'n' appears 1 times.\n",
      "Character ' ' appears 1 times.\n",
      "Character '1' appears 1 times.\n"
     ]
    }
   ],
   "source": [
    "#11)Write a program that takes a string as input and prints out the frequency of each character in the string.\n",
    "def fre(data):\n",
    "    char_frequency = {}\n",
    "    \n",
    "   \n",
    "    for char in data:\n",
    "       \n",
    "        if char in char_frequency:\n",
    "            char_frequency[char] += 1\n",
    "        \n",
    "        else:\n",
    "            char_frequency[char] = 1\n",
    "    \n",
    "    \n",
    "    for char, frequency in char_frequency.items():\n",
    "        print(f\"Character '{char}' appears {frequency} times.\")\n",
    "\n",
    "\n",
    "input_string = input(\"Enter a string: \")\n",
    "fre(input_string)\n",
    "    "
   ]
  },
  {
   "cell_type": "code",
   "execution_count": 3,
   "id": "b8480a05-1955-41bd-ad02-be1cd2e31acc",
   "metadata": {},
   "outputs": [
    {
     "name": "stdin",
     "output_type": "stream",
     "text": [
      "Enter a string:  lavinaparulekar\n"
     ]
    },
    {
     "name": "stdout",
     "output_type": "stream",
     "text": [
      "The string is not a pangram.\n"
     ]
    }
   ],
   "source": [
    "#12)Write a program that takes a string as input and checks whether it is a pangram or not.\n",
    "def is_pangram(input_string):\n",
    "    \n",
    "    input_string = input_string.lower()\n",
    "    \n",
    "    \n",
    "    alphabet = set('abcdefghijklmnopqrstuvwxyz')\n",
    "    \n",
    "    \n",
    "    input_chars = set(input_string)\n",
    "    \n",
    "    \n",
    "    if alphabet.issubset(input_chars):\n",
    "        print(\"The string is a pangram.\")\n",
    "    else:\n",
    "        print(\"The string is not a pangram.\")\n",
    "\n",
    "input_string = input(\"Enter a string: \")\n",
    "is_pangram(input_string)\n",
    "        \n",
    "        "
   ]
  },
  {
   "cell_type": "code",
   "execution_count": 5,
   "id": "73c2144e-aa44-4a42-94be-d0a05b55b5f2",
   "metadata": {},
   "outputs": [
    {
     "name": "stdout",
     "output_type": "stream",
     "text": [
      "5\n"
     ]
    }
   ],
   "source": [
    "#13)Write a program that takes a list of numbers as input and prints out the median value.\n",
    "def calculate_median(data):\n",
    "    \n",
    "    data.sort()\n",
    "    \n",
    "    \n",
    "    n = len(data)\n",
    "    \n",
    "    \n",
    "    if n % 2 == 0:\n",
    "       \n",
    "        median = (data[n // 2 - 1] + data[n // 2]) / 2\n",
    "    else:\n",
    "       \n",
    "        median = data[n // 2]\n",
    "    \n",
    "    return median\n",
    "\n",
    "\n",
    "numbers = [1, 3, 5, 7, 9]\n",
    "print(calculate_median(numbers))"
   ]
  },
  {
   "cell_type": "code",
   "execution_count": null,
   "id": "5777eb87-eb8c-4e32-a3cd-6721e6240710",
   "metadata": {},
   "outputs": [],
   "source": [
    "#14)Write a program that takes two strings as input and checks whether they are anagrams or not.\n",
    "def anagram(str,str2):\n",
    "    s1 = sorted(list(str))\n",
    "    s2 = sorted(list(str2))\n",
    "    print(s1 == s2)\n",
    "    return\n",
    "\n",
    "str = input(\"Enter string1: \")\n",
    "str2 = input(\"Enter string2: \")\n",
    "anagram(str,str2)\n"
   ]
  },
  {
   "cell_type": "code",
   "execution_count": null,
   "id": "44a10b1c-8667-4be1-a367-dee92aa5bd5f",
   "metadata": {},
   "outputs": [],
   "source": [
    "#15)Write a program that takes a list of numbers as input and finds the second largest number in the list.\n",
    "def sec_largest(data):\n",
    "    s = sorted(data,reverse=True)\n",
    "    print(s)\n",
    "    print(\"Second largest element:\",s[1])\n",
    "    return\n",
    "    \n",
    "data = map(int,input(\"Enter the number:\").split(\",\"))\n",
    "print(\"array is:\",data)\n",
    "sec_largest(data)"
   ]
  },
  {
   "cell_type": "code",
   "execution_count": null,
   "id": "afc712b4-3dea-4486-b151-7fa2d9c32f9d",
   "metadata": {},
   "outputs": [],
   "source": [
    "#16)Write a program that takes a list of numbers as input and finds the sum of all the even numbers in the list.\n",
    "def sum_even(data):\n",
    "    count =0\n",
    "    for i in range(len(data)):\n",
    "     if data[i] % 2==0:\n",
    "        count+=data[i]\n",
    "    print(\"sum is:\",count)\n",
    "\n",
    "sum_even([10,20,30,36,99])"
   ]
  },
  {
   "cell_type": "code",
   "execution_count": null,
   "id": "976fbbe7-5a06-40ef-b2e2-9caee8ae2772",
   "metadata": {},
   "outputs": [],
   "source": [
    "#17)Write a program that takes a string as input and prints out the words in reverse order.\n",
    "def reverser(data):\n",
    "    data1 = data[::-1]\n",
    "    print(data1)\n",
    "\n",
    "data = input(\"Enter the string:\")\n",
    "\n",
    "reverser(data)    \n",
    "    "
   ]
  },
  {
   "cell_type": "code",
   "execution_count": 9,
   "id": "5b2ac92e-82db-4b48-8aba-33e4b2793e55",
   "metadata": {},
   "outputs": [
    {
     "name": "stdout",
     "output_type": "stream",
     "text": [
      "[8, 6, 3, 2, 1]\n"
     ]
    }
   ],
   "source": [
    "#18)Write a program that takes a list of numbers as input and prints out the numbers in descending order.\n",
    "def dse(data):\n",
    "    data =sorted(data,reverse=True)\n",
    "    print(data)\n",
    "\n",
    "dse([1,6,8,3,2])\n"
   ]
  },
  {
   "cell_type": "code",
   "execution_count": 11,
   "id": "ad6fe302-b73d-4914-b140-bdc41130815c",
   "metadata": {},
   "outputs": [
    {
     "name": "stdout",
     "output_type": "stream",
     "text": [
      "['v', 'n', 'l', 'i', 'a', 'a']\n"
     ]
    }
   ],
   "source": [
    "#19)Write a program that takes a list of strings as input and prints out the strings in alphabetical order.\n",
    "def dse(data):\n",
    "    data =sorted(data,reverse=True)\n",
    "    print(data)\n",
    "\n",
    "dse(\"lavian\")"
   ]
  },
  {
   "cell_type": "code",
   "execution_count": 13,
   "id": "6bdc5bc7-2e68-41d7-affa-e30e98352198",
   "metadata": {},
   "outputs": [
    {
     "name": "stdout",
     "output_type": "stream",
     "text": [
      "series 0 1 1 "
     ]
    }
   ],
   "source": [
    "#20)Write a program that takes a list of numbers as input and checks whether it is a Fibonacci sequence or not.\n",
    "def fib(num):\n",
    "    if num == 0:\n",
    "     return 0\n",
    "    elif num == 1:\n",
    "     return 1\n",
    "    else:\n",
    "        f1 , f2 = 0, 1\n",
    "        print(\"series\",f1,f2,end= \" \")\n",
    "        for i in range(2,num):\n",
    "            f3 =f1+f2\n",
    "            print(f3,end = \" \")\n",
    "            f1,f2 = f2,f3\n",
    "fib(3)         \n"
   ]
  },
  {
   "cell_type": "code",
   "execution_count": null,
   "id": "0d29f582-65dd-4b29-9575-3a0c77d38f29",
   "metadata": {},
   "outputs": [],
   "source": [
    "#21)Write a program that takes a string as input and prints out the longest palindrome in the string.\n",
    "def longest_palindrome(s):\n",
    "    def is_palindrome(substring):\n",
    "        return substring == substring[::-1]\n",
    "\n",
    "    longest = \"\"\n",
    "    for i in range(len(s)):\n",
    "        for j in range(i + 1, len(s) + 1):\n",
    "            substring = s[i:j]\n",
    "            if is_palindrome(substring) and len(substring) > len(longest):\n",
    "                longest = substring\n",
    "\n",
    "    return longest\n",
    "\n",
    "input_string = input(\"Enter a string: \")\n",
    "print(\"The longest palindrome is:\", longest_palindrome(input_string))"
   ]
  },
  {
   "cell_type": "code",
   "execution_count": 49,
   "id": "22e8274c-e12d-4e08-ac81-68cd220df1b7",
   "metadata": {},
   "outputs": [
    {
     "name": "stdout",
     "output_type": "stream",
     "text": [
      "Original length: 6\n",
      "New length: 4\n",
      "lvin\n"
     ]
    }
   ],
   "source": [
    "#21)Write a program that takes a list of strings as input and removes all strings that contain the letter \"a\".\n",
    "def rem_a(data):\n",
    "    data = data.lower()\n",
    "    data1 = list(data)\n",
    "    l = len(data1)\n",
    "    print(f\"Original length: {l}\")\n",
    "    \n",
    "    \n",
    "    i = 0\n",
    "    while i < len(data1):\n",
    "        if data1[i] == \"a\":\n",
    "            del data1[i]\n",
    "        else:\n",
    "            i += 1\n",
    "    \n",
    "    print(f\"New length: {len(data1)}\")\n",
    "    print(\"\".join(data1))\n",
    "\n",
    "rem_a(\"lavina\")"
   ]
  },
  {
   "cell_type": "code",
   "execution_count": 63,
   "id": "057c69bd-8576-40da-8cb4-fed712834b74",
   "metadata": {},
   "outputs": [
    {
     "name": "stdout",
     "output_type": "stream",
     "text": [
      "[1, 2, 3, 4] {1, 2, 3, 4}\n",
      "no not present\n"
     ]
    }
   ],
   "source": [
    "#22)Write a program that takes a list of numbers as input and checks whether it contains any duplicates.\n",
    "def dup(data):\n",
    "    data1 = list(data)\n",
    "    data2 = set(data1)\n",
    "    print(data1,data2)\n",
    "    if len(data1) == len(data2):\n",
    "        print(\"no not present\")\n",
    "    else:\n",
    "        print(\"yes present\")\n",
    "      \n",
    "dup((1,2,3,4))\n",
    "    "
   ]
  },
  {
   "cell_type": "code",
   "execution_count": 65,
   "id": "5583b75f-4444-4840-95dc-ffbacc48ec96",
   "metadata": {},
   "outputs": [
    {
     "name": "stdin",
     "output_type": "stream",
     "text": [
      "Enter multiple strings separated by comma:  lavina,nayan,ankita,lajavi\n"
     ]
    },
    {
     "name": "stdout",
     "output_type": "stream",
     "text": [
      "\n",
      "Palindromic strings:\n",
      "nayan\n"
     ]
    }
   ],
   "source": [
    "#23)Write a program that takes a list of strings as input and prints out the strings that are palindromes.\n",
    "def check_palindromes():\n",
    "    strings = input(\"Enter multiple strings separated by comma: \")\n",
    "    strings_list = [s.strip() for s in strings.split(\",\")]\n",
    "    \n",
    "    palindromes = [s for s in strings_list if s == s[::-1]]\n",
    "    \n",
    "    print(\"\\nPalindromic strings:\")\n",
    "    for palindrome in palindromes:\n",
    "        print(palindrome)\n",
    "\n",
    "check_palindromes()"
   ]
  },
  {
   "cell_type": "code",
   "execution_count": 69,
   "id": "c91a2086-e140-4917-b66a-4dae2b18ef03",
   "metadata": {},
   "outputs": [
    {
     "name": "stdin",
     "output_type": "stream",
     "text": [
      "Enter a string:  lavina,lavina,anand\n"
     ]
    },
    {
     "name": "stdout",
     "output_type": "stream",
     "text": [
      "The most common word is 'lavina' with 2 occurrences.\n"
     ]
    }
   ],
   "source": [
    "#24)Write a program that takes a string as input and prints out the most common word in the string.\n",
    "def most_common_word(input_string):\n",
    "    \n",
    "    input_string = input_string.lower()\n",
    "    words = []\n",
    "    word = \"\"\n",
    "    for char in input_string:\n",
    "        if char.isalpha():\n",
    "            word += char\n",
    "        elif word:\n",
    "            words.append(word)\n",
    "            word = \"\"\n",
    "    if word:\n",
    "        words.append(word)\n",
    "    \n",
    "    \n",
    "    word_counts = {}\n",
    "    for word in words:\n",
    "        if word in word_counts:\n",
    "            word_counts[word] += 1\n",
    "        else:\n",
    "            word_counts[word] = 1\n",
    "    \n",
    "    \n",
    "    most_common = max(word_counts, key=word_counts.get)\n",
    "    \n",
    "    print(f\"The most common word is '{most_common}' with {word_counts[most_common]} occurrences.\")\n",
    "\n",
    "\n",
    "input_string = input(\"Enter a string: \")\n",
    "most_common_word(input_string)\n"
   ]
  },
  {
   "cell_type": "code",
   "execution_count": null,
   "id": "1004e267-6a30-4934-991b-53a690bae712",
   "metadata": {},
   "outputs": [],
   "source": [
    "#26)Write a program that takes a list of numbers as input and finds the product of all the numbers.\n",
    "def product_of_numbers(numbers):\n",
    "    product = 1\n",
    "    for number in numbers:\n",
    "        product *= number\n",
    "    return product\n",
    "\n",
    "numbers = input(\"Enter a list of numbers separated by space: \")\n",
    "numbers_list = [int(num) for num in numbers.split()]\n",
    "print(\"The product of the numbers is:\", product_of_numbers(numbers_list))\n",
    "\n"
   ]
  },
  {
   "cell_type": "code",
   "execution_count": 75,
   "id": "16a6101b-dead-49d6-bf0e-6011a29a7b9f",
   "metadata": {},
   "outputs": [
    {
     "name": "stdout",
     "output_type": "stream",
     "text": [
      "String without vowels: lvn\n"
     ]
    }
   ],
   "source": [
    "#27)Write a program that takes a string as input and removes all the vowels from the string.\n",
    "def remove_vowels(input_str):\n",
    "    vowels_list = [\"a\", \"e\", \"i\", \"o\", \"u\"]\n",
    "    result_str = \"\"\n",
    "    \n",
    "    for char in input_str.lower():\n",
    "        if char not in vowels_list:\n",
    "            result_str += char\n",
    "    \n",
    "    print(\"String without vowels:\", result_str)\n",
    "\n",
    "remove_vowels(\"lavina\")\n"
   ]
  },
  {
   "cell_type": "code",
   "execution_count": 81,
   "id": "52d94db9-6b54-42b8-9ee8-88f4c1c34139",
   "metadata": {},
   "outputs": [
    {
     "name": "stdin",
     "output_type": "stream",
     "text": [
      "Enter a list of numbers separated by space:  1 2 3\n"
     ]
    },
    {
     "name": "stdout",
     "output_type": "stream",
     "text": [
      "1 is not a prime number.\n"
     ]
    }
   ],
   "source": [
    "#28)Write a program that takes a list of numbers as input and checks whether it is a prime number sequence or not.\n",
    "def check_prime_sequence():\n",
    "    numbers = input(\"Enter a list of numbers separated by space: \")\n",
    "    numbers_list = [int(num) for num in numbers.split()]\n",
    "    \n",
    "    is_prime_sequence = True\n",
    "    for num in numbers_list:\n",
    "        if num < 2:\n",
    "            print(f\"{num} is not a prime number.\")\n",
    "            is_prime_sequence = False\n",
    "            break\n",
    "        for i in range(2, int(num**0.5) + 1):\n",
    "            if num % i == 0:\n",
    "                print(f\"{num} is not a prime number.\")\n",
    "                is_prime_sequence = False\n",
    "                break\n",
    "        if not is_prime_sequence:\n",
    "            break\n",
    "    \n",
    "    if is_prime_sequence:\n",
    "        print(\"The sequence is a prime number sequence.\")\n",
    "\n",
    "check_prime_sequence()\n"
   ]
  },
  {
   "cell_type": "code",
   "execution_count": 83,
   "id": "e9f1fa0a-5032-47ad-bc3b-76a6a502748e",
   "metadata": {},
   "outputs": [
    {
     "name": "stdin",
     "output_type": "stream",
     "text": [
      "Enter a list of strings separated by comma:  lavina,anand,lajavi\n"
     ]
    },
    {
     "name": "stdout",
     "output_type": "stream",
     "text": [
      "'anand' is not the same length as the first string.\n"
     ]
    },
    {
     "data": {
      "text/plain": [
       "False"
      ]
     },
     "execution_count": 83,
     "metadata": {},
     "output_type": "execute_result"
    }
   ],
   "source": [
    "#29)Write a program that takes a list of strings as input and checks whether all the strings are of the same length.\n",
    "def check_same_length():\n",
    "    strings = input(\"Enter a list of strings separated by comma: \")\n",
    "    strings_list = [s.strip() for s in strings.split(\",\")]\n",
    "    \n",
    "    length = len(strings_list[0])\n",
    "    for s in strings_list:\n",
    "        if len(s) != length:\n",
    "            print(f\"'{s}' is not the same length as the first string.\")\n",
    "            return False\n",
    "    print(\"All strings are of the same length.\")\n",
    "    return True\n",
    "\n",
    "check_same_length()\n"
   ]
  },
  {
   "cell_type": "code",
   "execution_count": null,
   "id": "661cf029-c630-4752-a224-193b4ccdaf48",
   "metadata": {},
   "outputs": [],
   "source": [
    "#30)Write a program that takes a string as input and checks whether it is a pangram or not, using only lowercase letters.\n",
    "def is_pangram(input_string):\n",
    "    alphabet = \"abcdefghijklmnopqrstuvwxyz\"\n",
    "    input_string = input_string.lower()\n",
    "    \n",
    "    for char in alphabet:\n",
    "        if char not in input_string:\n",
    "            print(\"The string is not a pangram.\")\n",
    "            return False\n",
    "    print(\"The string is a pangram.\")\n",
    "    return True\n",
    "\n",
    "\n",
    "input_string = input(\"Enter a string: \")\n",
    "is_pangram(input_string)\n"
   ]
  },
  {
   "cell_type": "code",
   "execution_count": 89,
   "id": "23b78254-240a-433b-af1e-5691aeb8178c",
   "metadata": {},
   "outputs": [
    {
     "name": "stdin",
     "output_type": "stream",
     "text": [
      "Enter a list of numbers separated by space:  1 23\n"
     ]
    },
    {
     "name": "stdout",
     "output_type": "stream",
     "text": [
      "The list is sorted in ascending order.\n"
     ]
    },
    {
     "data": {
      "text/plain": [
       "True"
      ]
     },
     "execution_count": 89,
     "metadata": {},
     "output_type": "execute_result"
    }
   ],
   "source": [
    "#31)Write a program that takes a list of numbers as input and checks whether the list is sorted in ascending order.\n",
    "def is_sorted(numbers):\n",
    "    for i in range(len(numbers) - 1):\n",
    "        if numbers[i] > numbers[i + 1]:\n",
    "            print(\"The list is not sorted in ascending order.\")\n",
    "            return False\n",
    "    print(\"The list is sorted in ascending order.\")\n",
    "    return True\n",
    "\n",
    "\n",
    "numbers = input(\"Enter a list of numbers separated by space: \")\n",
    "numbers_list = [int(num) for num in numbers.split()]\n",
    "is_sorted(numbers_list)\n"
   ]
  },
  {
   "cell_type": "code",
   "execution_count": 91,
   "id": "30d8c3c5-094f-4fa7-8bee-b2fa71d91e60",
   "metadata": {},
   "outputs": [
    {
     "name": "stdin",
     "output_type": "stream",
     "text": [
      "Enter a string:  Lavinaa\n"
     ]
    },
    {
     "name": "stdout",
     "output_type": "stream",
     "text": [
      "Uppercase letters: 1\n",
      "Lowercase letters: 6\n"
     ]
    }
   ],
   "source": [
    "#32)Write a program that takes a string as input and prints out the number of uppercase letters and lowercase letters in the string.\n",
    "def count_case(input_string):\n",
    "    uppercase_count = sum(1 for char in input_string if char.isupper())\n",
    "    lowercase_count = sum(1 for char in input_string if char.islower())\n",
    "    \n",
    "    print(f\"Uppercase letters: {uppercase_count}\")\n",
    "    print(f\"Lowercase letters: {lowercase_count}\")\n",
    "\n",
    "\n",
    "input_string = input(\"Enter a string: \")\n",
    "count_case(input_string)\n"
   ]
  },
  {
   "cell_type": "code",
   "execution_count": 95,
   "id": "33d54c73-f85d-41e7-a6b7-23ba8c92a2d0",
   "metadata": {},
   "outputs": [
    {
     "name": "stdin",
     "output_type": "stream",
     "text": [
      "Enter the first list of numbers separated by space:  1  2  3  4\n",
      "Enter the second list of numbers separated by space:  2 1 3 5\n"
     ]
    },
    {
     "name": "stdout",
     "output_type": "stream",
     "text": [
      "Elements in the first list but not in the second list: [4]\n"
     ]
    }
   ],
   "source": [
    "#33)Write a program that takes two lists of numbers as input and prints out a new list containing the elements that are in the first list but not in the second list.\n",
    "def difference_list():\n",
    "    list1 = input(\"Enter the first list of numbers separated by space: \")\n",
    "    list1_numbers = [int(num) for num in list1.split()]\n",
    "    \n",
    "    list2 = input(\"Enter the second list of numbers separated by space: \")\n",
    "    list2_numbers = [int(num) for num in list2.split()]\n",
    "    \n",
    "    difference = [num for num in list1_numbers if num not in list2_numbers]\n",
    "    \n",
    "    print(\"Elements in the first list but not in the second list:\", difference)\n",
    "\n",
    "difference_list()\n"
   ]
  },
  {
   "cell_type": "code",
   "execution_count": null,
   "id": "698f0246-ec40-4111-89c6-b5f0817a03c4",
   "metadata": {},
   "outputs": [],
   "source": [
    "#34)Write a program that takes a list of numbers as input and finds the smallest positive integer that is not in the list.\n",
    "def smallest_missing_positive():\n",
    "    numbers = input(\"Enter a list of numbers separated by space: \")\n",
    "    numbers_list = [int(num) for num in numbers.split()]\n",
    "    \n",
    "    i = 1\n",
    "    while True:\n",
    "        if i not in numbers_list:\n",
    "            print(f\"The smallest positive integer not in the list is {i}.\")\n",
    "            break\n",
    "        i += 1\n",
    "\n",
    "smallest_missing_positive()\n"
   ]
  },
  {
   "cell_type": "code",
   "execution_count": 97,
   "id": "343a4d96-f9a4-4c1e-8406-c2ff4965ba23",
   "metadata": {},
   "outputs": [
    {
     "name": "stdin",
     "output_type": "stream",
     "text": [
      "Enter a string:  lavina\n"
     ]
    },
    {
     "name": "stdout",
     "output_type": "stream",
     "text": [
      "Number of words with at least one vowel: 1\n"
     ]
    }
   ],
   "source": [
    "#35)Write a program that takes a string as input and prints out the number of words that contain at least one vowel.\n",
    "\n",
    "def count_words_with_vowels():\n",
    "    input_string = input(\"Enter a string: \")\n",
    "    words = input_string.split()\n",
    "    vowels = \"aeiou\"\n",
    "    count = 0\n",
    "    \n",
    "    for word in words:\n",
    "        if any(char.lower() in vowels for char in word):\n",
    "            count += 1\n",
    "    \n",
    "    print(f\"Number of words with at least one vowel: {count}\")\n",
    "\n",
    "count_words_with_vowels()\n"
   ]
  },
  {
   "cell_type": "code",
   "execution_count": 101,
   "id": "c3464b3f-6a2d-45d9-b366-ef308bf916bd",
   "metadata": {},
   "outputs": [
    {
     "name": "stdin",
     "output_type": "stream",
     "text": [
      "Enter a list of numbers separated by space:  36 45 81 56\n"
     ]
    },
    {
     "name": "stdout",
     "output_type": "stream",
     "text": [
      "Perfect squares: [36, 81]\n"
     ]
    }
   ],
   "source": [
    "#36)Write a program that takes a list of numbers as input and prints out the numbers that are perfect squares.\n",
    "def print_perfect_squares():\n",
    "    numbers = input(\"Enter a list of numbers separated by space: \")\n",
    "    numbers_list = [int(num) for num in numbers.split()]\n",
    "    \n",
    "    perfect_squares = [num for num in numbers_list if round(num ** 0.5) ** 2 == num]\n",
    "    \n",
    "    print(\"Perfect squares:\", perfect_squares)\n",
    "\n",
    "print_perfect_squares()\n"
   ]
  },
  {
   "cell_type": "code",
   "execution_count": 103,
   "id": "cb52d574-a3e1-4c9c-a8e6-84aff5e4691d",
   "metadata": {},
   "outputs": [
    {
     "name": "stdin",
     "output_type": "stream",
     "text": [
      "Enter a string:  lavina\n"
     ]
    },
    {
     "name": "stdout",
     "output_type": "stream",
     "text": [
      "Character 'l' appears 1 times.\n",
      "Character 'a' appears 2 times.\n",
      "Character 'v' appears 1 times.\n",
      "Character 'i' appears 1 times.\n",
      "Character 'n' appears 1 times.\n"
     ]
    }
   ],
   "source": [
    "#37)Write a program that takes a string as input and prints out the number of times each word appears in the string.\n",
    "def fre(data):\n",
    "    char_frequency = {}\n",
    "    \n",
    "   \n",
    "    for char in data:\n",
    "       \n",
    "        if char in char_frequency:\n",
    "            char_frequency[char] += 1\n",
    "        \n",
    "        else:\n",
    "            char_frequency[char] = 1\n",
    "    \n",
    "    \n",
    "    for char, frequency in char_frequency.items():\n",
    "        print(f\"Character '{char}' appears {frequency} times.\")\n",
    "\n",
    "\n",
    "input_string = input(\"Enter a string: \")\n",
    "fre(input_string)"
   ]
  },
  {
   "cell_type": "code",
   "execution_count": 109,
   "id": "e7e6962c-9603-46f6-b0ed-2ffa2b9fac24",
   "metadata": {},
   "outputs": [
    {
     "name": "stdin",
     "output_type": "stream",
     "text": [
      "Enter a list of strings separated by comma:  lavina,parulekar,LAVINA\n"
     ]
    },
    {
     "name": "stdout",
     "output_type": "stream",
     "text": [
      "Strings with only uppercase letters: ['LAVINA']\n"
     ]
    }
   ],
   "source": [
    "#38)Write a program that takes a list of strings as input and prints out the strings that contain only uppercase letters.\n",
    "def print_uppercase_strings():\n",
    "    strings = input(\"Enter a list of strings separated by comma: \")\n",
    "    strings_list = [s.strip() for s in strings.split(\",\")]\n",
    "    \n",
    "    uppercase_strings = [s for s in strings_list if s.isupper()]\n",
    "    \n",
    "    print(\"Strings with only uppercase letters:\", uppercase_strings)\n",
    "\n",
    "print_uppercase_strings()\n"
   ]
  },
  {
   "cell_type": "code",
   "execution_count": null,
   "id": "d95c5943-df4b-4888-81f2-11d083d038ba",
   "metadata": {},
   "outputs": [],
   "source": [
    "#39)\n",
    "def product_except_self():\n",
    "    numbers = input(\"Enter a list of numbers separated by space: \")\n",
    "    numbers_list = [int(num) for num in numbers.split()]\n",
    "    \n",
    "    zero_count = numbers_list.count(0)\n",
    "    if zero_count > 1:\n",
    "        result = [0] * len(numbers_list)\n",
    "    elif zero_count == 1:\n",
    "        zero_index = numbers_list.index(0)\n",
    "        result = [0] * len(numbers_list)\n",
    "        result[zero_index] = 1\n",
    "        for i, num in enumerate(numbers_list):\n",
    "            if i != zero_index:\n",
    "                result[i] *= num\n",
    "    else:\n",
    "        total_product = 1\n",
    "        for num in numbers_list:\n",
    "            total_product *= num\n",
    "        result = [total_product // num for num in numbers_list]\n",
    "    \n",
    "    print(\"New list with products:\", result)\n",
    "\n",
    "product_except_self()\n"
   ]
  }
 ],
 "metadata": {
  "kernelspec": {
   "display_name": "Python [conda env:base] *",
   "language": "python",
   "name": "conda-base-py"
  },
  "language_info": {
   "codemirror_mode": {
    "name": "ipython",
    "version": 3
   },
   "file_extension": ".py",
   "mimetype": "text/x-python",
   "name": "python",
   "nbconvert_exporter": "python",
   "pygments_lexer": "ipython3",
   "version": "3.12.7"
  }
 },
 "nbformat": 4,
 "nbformat_minor": 5
}
